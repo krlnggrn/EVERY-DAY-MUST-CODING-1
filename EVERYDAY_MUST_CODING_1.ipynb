{
  "nbformat": 4,
  "nbformat_minor": 0,
  "metadata": {
    "colab": {
      "name": "EVERYDAY-MUST-CODING-#1.ipynb",
      "provenance": [],
      "collapsed_sections": [],
      "authorship_tag": "ABX9TyPZ0ePH549EUd3pTgrOWcvE",
      "include_colab_link": true
    },
    "kernelspec": {
      "name": "python3",
      "display_name": "Python 3"
    },
    "language_info": {
      "name": "python"
    }
  },
  "cells": [
    {
      "cell_type": "markdown",
      "metadata": {
        "id": "view-in-github",
        "colab_type": "text"
      },
      "source": [
        "<a href=\"https://colab.research.google.com/github/krlnggrn/EVERY-DAY-MUST-CODING-1/blob/main/EVERYDAY_MUST_CODING_1.ipynb\" target=\"_parent\"><img src=\"https://colab.research.google.com/assets/colab-badge.svg\" alt=\"Open In Colab\"/></a>"
      ]
    },
    {
      "cell_type": "markdown",
      "source": [
        ""
      ],
      "metadata": {
        "id": "xFXEDaYDJiwu"
      }
    },
    {
      "cell_type": "markdown",
      "source": [
        ""
      ],
      "metadata": {
        "id": "jbfzJOQRu4-Q"
      }
    },
    {
      "cell_type": "code",
      "execution_count": null,
      "metadata": {
        "colab": {
          "base_uri": "https://localhost:8080/"
        },
        "id": "NJg01WJiu3oJ",
        "outputId": "900976cc-c31c-4e56-9b92-666842c03540"
      },
      "outputs": [
        {
          "output_type": "stream",
          "name": "stdout",
          "text": [
            "Hello, connector\n"
          ]
        }
      ],
      "source": [
        "print(\"Hello, connector\")"
      ]
    },
    {
      "cell_type": "code",
      "source": [
        "#masukin nilai variabel pada string\n",
        "x = 1\n",
        "print('Welcome to my everyday must coding', x )"
      ],
      "metadata": {
        "colab": {
          "base_uri": "https://localhost:8080/"
        },
        "id": "97UjWi5evWUj",
        "outputId": "84cd084f-c785-4779-e564-268d32ef408b"
      },
      "execution_count": null,
      "outputs": [
        {
          "output_type": "stream",
          "name": "stdout",
          "text": [
            "Welcome to my everyday must coding 1\n"
          ]
        }
      ]
    },
    {
      "cell_type": "code",
      "source": [
        "#CARA1 Untuk menampilkan text (string), bisa menggunakan mekanisme string format.\n",
        "print('whats up{}'.format(' bro'))"
      ],
      "metadata": {
        "colab": {
          "base_uri": "https://localhost:8080/"
        },
        "id": "FmI5LTGjvtcO",
        "outputId": "55a982e1-48b0-4b29-f89d-3e75b4fb2ccc"
      },
      "execution_count": null,
      "outputs": [
        {
          "output_type": "stream",
          "name": "stdout",
          "text": [
            "whats up bro\n"
          ]
        }
      ]
    },
    {
      "cell_type": "code",
      "source": [
        "#CARA2 mirip dgn sintaks C/C++, yakni menggunakan operator “%” yang ditambahkan dengan \"argument specifiers\", misalnya \"%s\" and \"%d\"\n",
        "nama = 'Goupshop'\n",
        "print('Hi, %s!' % nama)"
      ],
      "metadata": {
        "colab": {
          "base_uri": "https://localhost:8080/"
        },
        "id": "Nk1ilJ6EwDJI",
        "outputId": "9152ec8e-df4f-4553-9f71-c440533c2e19"
      },
      "execution_count": null,
      "outputs": [
        {
          "output_type": "stream",
          "name": "stdout",
          "text": [
            "Hi, Goupshop!\n"
          ]
        }
      ]
    },
    {
      "cell_type": "code",
      "source": [
        "print(type(nama))"
      ],
      "metadata": {
        "colab": {
          "base_uri": "https://localhost:8080/"
        },
        "id": "zEBxsdfY0HAM",
        "outputId": "900c3163-8a55-4aeb-f2e1-057e8aaf5d59"
      },
      "execution_count": null,
      "outputs": [
        {
          "output_type": "stream",
          "name": "stdout",
          "text": [
            "<class 'str'>\n"
          ]
        }
      ]
    },
    {
      "cell_type": "code",
      "source": [
        "#nambah string dan integer\n",
        "nama = 'goupshop'\n",
        "umur = 3\n",
        "print('Umur %s adalah %d tahun.' % (nama, umur))"
      ],
      "metadata": {
        "colab": {
          "base_uri": "https://localhost:8080/"
        },
        "id": "pNDKCkh4whvT",
        "outputId": "5dfa4aeb-a733-4a62-b94d-d80a7e8f4e8f"
      },
      "execution_count": null,
      "outputs": [
        {
          "output_type": "stream",
          "name": "stdout",
          "text": [
            "Umur goupshop adalah 3 tahun.\n"
          ]
        }
      ]
    },
    {
      "cell_type": "code",
      "source": [
        "angka = [7, 9, 11, 13]\n",
        "a, b = 10, 11\n",
        "print('nilai diatas: %s' % angka)"
      ],
      "metadata": {
        "colab": {
          "base_uri": "https://localhost:8080/"
        },
        "id": "kFgMY1NKw-cY",
        "outputId": "59cfb78a-f7ef-4227-b816-4b30f48cea6e"
      },
      "execution_count": null,
      "outputs": [
        {
          "output_type": "stream",
          "name": "stdout",
          "text": [
            "nilai diatas: [7, 9, 11, 13]\n"
          ]
        }
      ]
    },
    {
      "cell_type": "code",
      "source": [
        "print('10: %x and 11: %X' % (a,b))"
      ],
      "metadata": {
        "colab": {
          "base_uri": "https://localhost:8080/"
        },
        "id": "Yx6Xw2pWxhbE",
        "outputId": "2d24d3e3-8830-4b08-ad6f-06ef0de31ff1"
      },
      "execution_count": null,
      "outputs": [
        {
          "output_type": "stream",
          "name": "stdout",
          "text": [
            "10: a and 11: B\n"
          ]
        }
      ]
    },
    {
      "cell_type": "markdown",
      "source": [
        "%s - String\n",
        "%d - Integers\n",
        "%f - Bilangan Desimal\n",
        "%.<digit>f - Bilangan desimal dengan sejumlah digit angka dibelakang koma.\n",
        "%x/%X - Bilangan bulat dalam representasi Hexa (huruf kecil/huruf besar)"
      ],
      "metadata": {
        "id": "0rqhZ1q3xYOh"
      }
    },
    {
      "cell_type": "markdown",
      "source": [
        "input\n",
        "fungsi input(), dengan argumen dalam kurung () adalah teks yang ingin ditampilkan (prompt) dan variabel sebelum tanda sama dengan (=) "
      ],
      "metadata": {
        "id": "luaeviBxx1a0"
      }
    },
    {
      "cell_type": "code",
      "source": [
        "nilai = input('dikeranjang ada : ')"
      ],
      "metadata": {
        "colab": {
          "base_uri": "https://localhost:8080/"
        },
        "id": "i5449Fwjx8WE",
        "outputId": "d34b41f7-7d10-40d9-ee7b-505ebf25633f"
      },
      "execution_count": null,
      "outputs": [
        {
          "name": "stdout",
          "output_type": "stream",
          "text": [
            "dikeranjang ada : 10\n"
          ]
        }
      ]
    },
    {
      "cell_type": "code",
      "source": [
        "print(int(nilai))"
      ],
      "metadata": {
        "colab": {
          "base_uri": "https://localhost:8080/"
        },
        "id": "jbBxrYTCyGV7",
        "outputId": "3115bf24-0af8-424a-c598-b60adc2fd63e"
      },
      "execution_count": null,
      "outputs": [
        {
          "output_type": "stream",
          "name": "stdout",
          "text": [
            "10\n"
          ]
        }
      ]
    },
    {
      "cell_type": "code",
      "source": [
        "print(float(nilai))"
      ],
      "metadata": {
        "colab": {
          "base_uri": "https://localhost:8080/"
        },
        "id": "q09boZFcyYUh",
        "outputId": "ef983a48-f433-4d56-f88e-242e0240ae49"
      },
      "execution_count": null,
      "outputs": [
        {
          "output_type": "stream",
          "name": "stdout",
          "text": [
            "10.0\n"
          ]
        }
      ]
    },
    {
      "cell_type": "code",
      "source": [
        "#Jika input merupakan string berisi ekspresi matematika, maka konversi dengan int() atau float() akan menghasilkan error. \n",
        "#maka dapat menggunakan fungsi eval()\n",
        "print(eval('80*2'))"
      ],
      "metadata": {
        "colab": {
          "base_uri": "https://localhost:8080/"
        },
        "id": "1QAQrK2GyinM",
        "outputId": "e650150e-451d-4ff1-8131-c2afbb88f22e"
      },
      "execution_count": null,
      "outputs": [
        {
          "output_type": "stream",
          "name": "stdout",
          "text": [
            "160\n"
          ]
        }
      ]
    },
    {
      "cell_type": "code",
      "source": [
        "#fungsi len() tidak bisa untuk INTEGER\n",
        "print(len(nama))"
      ],
      "metadata": {
        "colab": {
          "base_uri": "https://localhost:8080/"
        },
        "id": "gyP6dsj9zuhT",
        "outputId": "7db9b42d-aca5-4bf6-90ad-d0ee5b17c9ad"
      },
      "execution_count": null,
      "outputs": [
        {
          "output_type": "stream",
          "name": "stdout",
          "text": [
            "8\n"
          ]
        }
      ]
    },
    {
      "cell_type": "markdown",
      "source": [
        "Mengubah Huruf Besar/Kecil"
      ],
      "metadata": {
        "id": "5JMDAehf0umg"
      }
    },
    {
      "cell_type": "code",
      "source": [
        "kata = 'goupshop'\n",
        "kata = kata.upper()\n",
        "print(kata)"
      ],
      "metadata": {
        "colab": {
          "base_uri": "https://localhost:8080/"
        },
        "id": "eyJWz2Fx0vZd",
        "outputId": "7a3bc9d6-428b-4b01-8ec1-897b2ae59476"
      },
      "execution_count": null,
      "outputs": [
        {
          "output_type": "stream",
          "name": "stdout",
          "text": [
            "GOUPSHOP\n"
          ]
        }
      ]
    },
    {
      "cell_type": "code",
      "source": [
        "kata = 'BOG'\n",
        "kata = kata.lower()\n",
        "print(kata)"
      ],
      "metadata": {
        "colab": {
          "base_uri": "https://localhost:8080/"
        },
        "id": "fXU-RTQr0lOV",
        "outputId": "65d20820-657a-430b-f957-ab584333e4d0"
      },
      "execution_count": null,
      "outputs": [
        {
          "output_type": "stream",
          "name": "stdout",
          "text": [
            "bog\n"
          ]
        }
      ]
    },
    {
      "cell_type": "code",
      "source": [
        "#startswith()\n",
        "#Metode startswith() akan mengembalikan nilai True jika string diawali dengan kata awalan tertentu yang kita inginkan, \n",
        "#jika tidak maka akan mengembalikan nilai False..  endswith() = kebalikannya"
      ],
      "metadata": {
        "id": "BFMzkU_71boZ"
      },
      "execution_count": null,
      "outputs": []
    },
    {
      "cell_type": "code",
      "source": [
        "print('Goupshop Indonesia'.startswith('Goupahop'))\n",
        "print('Goupshop Indonesia'.endswith('Indonesia'))"
      ],
      "metadata": {
        "colab": {
          "base_uri": "https://localhost:8080/"
        },
        "id": "qSEMagpO1ir1",
        "outputId": "06feba16-2c39-4555-e44a-5b6787c95b18"
      },
      "execution_count": null,
      "outputs": [
        {
          "output_type": "stream",
          "name": "stdout",
          "text": [
            "False\n",
            "True\n"
          ]
        }
      ]
    },
    {
      "cell_type": "markdown",
      "source": [
        "Replace"
      ],
      "metadata": {
        "id": "gng7-SOr2IYZ"
      }
    },
    {
      "cell_type": "code",
      "source": [
        "string = 'Goupshop menyediakan peralatan ramah lingkungan'\n",
        "print(string.replace('peralatan', 'perlengkapan'))"
      ],
      "metadata": {
        "colab": {
          "base_uri": "https://localhost:8080/"
        },
        "id": "DrKrxKoj2IBY",
        "outputId": "5806c1a8-d92c-4c6a-a5f0-b953c1246632"
      },
      "execution_count": null,
      "outputs": [
        {
          "output_type": "stream",
          "name": "stdout",
          "text": [
            "Goupshop menyediakan perlengkapan ramah lingkungan\n"
          ]
        }
      ]
    },
    {
      "cell_type": "code",
      "source": [
        "#operasi pada hasil operasinya (chain of method)\n",
        "print('Aku'. upper().lower())\n",
        "print('Aku'.lower().upper())\n",
        "print('Aku'.upper().lower().islower())\n",
        "print('Aku'.lower().upper().isupper())\n",
        "\n",
        "#istitle() = awalannya aja kapital\\\n",
        "'Goupshop Cinta Lingkungan'.istitle()"
      ],
      "metadata": {
        "colab": {
          "base_uri": "https://localhost:8080/"
        },
        "id": "i2JGAkEk2vwN",
        "outputId": "98df5d36-99bb-4b78-81e9-85f409bc31ba"
      },
      "execution_count": null,
      "outputs": [
        {
          "output_type": "stream",
          "name": "stdout",
          "text": [
            "aku\n",
            "AKU\n",
            "True\n",
            "True\n"
          ]
        },
        {
          "output_type": "execute_result",
          "data": {
            "text/plain": [
              "True"
            ]
          },
          "metadata": {},
          "execution_count": 42
        }
      ]
    },
    {
      "cell_type": "markdown",
      "source": [
        "#rata kanan/kiri/tengah = rjust/ljust/center\n",
        "Goupshop'.rjust(20) dapat diartikan sebagai kita ingin menuliskan ‘Dicoding’ dengan mode rata kanan yang total panjang stringnya adalah 20. Karena panjang ‘Dicoding’ adalah 8 karakter, maka 12 spasi akan ditambahkan di sebelah kiri."
      ],
      "metadata": {
        "id": "gD_nO6WF4vO1"
      }
    },
    {
      "cell_type": "code",
      "source": [
        "#run satu2\n",
        "'Goupshop'.rjust(20)\n",
        "'Goupshop'.ljust(20)\n",
        "'Goupshop'.ljust(20, '?')\n",
        "'Goupshop'.center(20)"
      ],
      "metadata": {
        "colab": {
          "base_uri": "https://localhost:8080/",
          "height": 35
        },
        "id": "QMPDiUCP4gl-",
        "outputId": "9456ab21-486e-4866-f2e6-8925bc3f0332"
      },
      "execution_count": null,
      "outputs": [
        {
          "output_type": "execute_result",
          "data": {
            "text/plain": [
              "'      Goupshop      '"
            ],
            "application/vnd.google.colaboratory.intrinsic+json": {
              "type": "string"
            }
          },
          "metadata": {},
          "execution_count": 45
        }
      ]
    },
    {
      "cell_type": "markdown",
      "source": [
        "Escape Character\n",
        "\n",
        "\\' Single quote\n",
        "\\\" Double quote\n",
        "\\t Tab\n",
        "\\n Newline (line break)\n",
        "\\\\ Backslash"
      ],
      "metadata": {
        "id": "3EDv7YTT5hR9"
      }
    },
    {
      "cell_type": "code",
      "source": [
        "print('Halo\\nKapan kita kuliah\\nsepertinya kemarin')"
      ],
      "metadata": {
        "colab": {
          "base_uri": "https://localhost:8080/"
        },
        "id": "muieHJTV5WBC",
        "outputId": "d19f14c5-335a-4454-90e6-9959ad2f4e19"
      },
      "execution_count": null,
      "outputs": [
        {
          "output_type": "stream",
          "name": "stdout",
          "text": [
            "Halo\n",
            "Kapan kita kuliah\n",
            "sepertinya kemarin\n"
          ]
        }
      ]
    },
    {
      "cell_type": "code",
      "source": [
        "multi_line = \"\"\"Halo!\n",
        "Kapan kita kuliah\n",
        "sepertinya kemarin.\"\"\"\n",
        "print(multi_line)"
      ],
      "metadata": {
        "colab": {
          "base_uri": "https://localhost:8080/"
        },
        "id": "geGgsnkb56tp",
        "outputId": "93ff1693-ee0a-4cb8-b0ce-9d0f9d5a0818"
      },
      "execution_count": null,
      "outputs": [
        {
          "output_type": "stream",
          "name": "stdout",
          "text": [
            "Halo!\n",
            "Kapan kita kuliah\n",
            "sepertinya kemarin.\n"
          ]
        }
      ]
    },
    {
      "cell_type": "markdown",
      "source": [
        "Pengurutan"
      ],
      "metadata": {
        "id": "cWflqe7y6oPr"
      }
    },
    {
      "cell_type": "code",
      "source": [
        "angka = [100, 1000, 500, 200, 5]\n",
        "angka.sort()\n",
        "print(angka)"
      ],
      "metadata": {
        "colab": {
          "base_uri": "https://localhost:8080/"
        },
        "id": "h-DNzeV76qA4",
        "outputId": "8707d321-76c2-4f5d-9970-def65d8636ee"
      },
      "execution_count": null,
      "outputs": [
        {
          "output_type": "stream",
          "name": "stdout",
          "text": [
            "[5, 100, 200, 500, 1000]\n"
          ]
        }
      ]
    },
    {
      "cell_type": "code",
      "source": [
        "#terbalik\n",
        "kendaraan = ['motor', 'mobil', 'helikopter', 'pesawat']\n",
        "kendaraan.sort(reverse=True)\n",
        "print(kendaraan)"
      ],
      "metadata": {
        "colab": {
          "base_uri": "https://localhost:8080/"
        },
        "id": "0rK_ezqj6wA_",
        "outputId": "0105bff4-34fb-47e5-a56b-0cf837889a3f"
      },
      "execution_count": null,
      "outputs": [
        {
          "output_type": "stream",
          "name": "stdout",
          "text": [
            "['pesawat', 'motor', 'mobil', 'helikopter']\n"
          ]
        }
      ]
    }
  ]
}